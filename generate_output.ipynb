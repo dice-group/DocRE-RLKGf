{
 "cells": [
  {
   "cell_type": "code",
   "execution_count": null,
   "id": "7bbce39d-56ad-4277-8dd0-9bc7abe5fbfd",
   "metadata": {},
   "outputs": [],
   "source": [
    "from transformers import GenerationConfig\n",
    "from peft import AutoPeftModelForCausalLM, PeftModel\n",
    "from transformers import AutoModelForCausalLM\n",
    "import torch\n",
    "import os\n",
    "import pandas as pd"
   ]
  },
  {
   "cell_type": "code",
   "execution_count": null,
   "id": "b28d0b23-7bc7-4719-99ad-f59da7bfad1f",
   "metadata": {},
   "outputs": [],
   "source": [
    "model_name = \"PROVIDE_MODEL\""
   ]
  },
  {
   "cell_type": "code",
   "execution_count": null,
   "id": "b401f4d3-58c8-468a-8b1e-06e963316a4c",
   "metadata": {},
   "outputs": [],
   "source": [
    "\n",
    "train_df = pd.read_csv(\"PROVIDE_DS_DATA\") # Provide dataset of distant supervision in prompt style\n"
   ]
  },
  {
   "cell_type": "code",
   "execution_count": null,
   "id": "ef4a023c-3f9d-42ce-b8a2-9434b954defc",
   "metadata": {},
   "outputs": [],
   "source": [
    "tokenizer = AutoTokenizer.from_pretrained(model_name) \n",
    "model = AutoModelForCausalLM.from_pretrained(model_name, torch_dtype=torch.float16, load_in_8bit=False,\n",
    "                                             device_map=\"auto\",\n",
    "                                             trust_remote_code=True)\n",
    "\n",
    "model_path = \"OUTPUT_DIRECTORY\"\n",
    "\n",
    "peft_model = PeftModel.from_pretrained(model, model_path, from_transformers=True, device_map=\"auto\")\n",
    "\n",
    "model = peft_model.merge_and_unload()"
   ]
  },
  {
   "cell_type": "code",
   "execution_count": null,
   "id": "30dc25c9-ee0c-4d97-8051-4d9501454117",
   "metadata": {},
   "outputs": [],
   "source": [
    "\n",
    "def generate_output(user_input):\n",
    "    prompt = formatted_prompt(user_input)\n",
    "\n",
    "    inputs = tokenizer([prompt], return_tensors=\"pt\")\n",
    "    generation_config = GenerationConfig(penalty_alpha=0.6,do_sample = True,\n",
    "      top_k=5,temperature=0.3,repetition_penalty=1.2,\n",
    "      max_new_tokens=512,pad_token_id=tokenizer.eos_token_id\n",
    "    )\n",
    "\n",
    "    inputs = tokenizer(prompt, return_tensors=\"pt\").to('cuda')\n",
    "\n",
    "    outputs = model.generate(**inputs, generation_config=generation_config)\n",
    "    result = tokenizer.decode(outputs[0], skip_special_tokens=True).split('Example Output')[1]\n",
    "\n",
    "    return result"
   ]
  },
  {
   "cell_type": "code",
   "execution_count": null,
   "id": "30fceb6a-4315-419f-8b63-9542fb307599",
   "metadata": {},
   "outputs": [],
   "source": [
    "train_df['output1'] = train_df['prompt'].apply(lambda x: generate_output(x))\n",
    "train_df['output2'] = train_df['prompt'].apply(lambda x: generate_output(x))\n",
    "train_df['output3'] = train_df['prompt'].apply(lambda x: generate_output(x))"
   ]
  },
  {
   "cell_type": "code",
   "execution_count": null,
   "id": "1426e433-316d-4c5a-a817-168c30e9ad69",
   "metadata": {},
   "outputs": [],
   "source": [
    "### Save the train_df"
   ]
  }
 ],
 "metadata": {
  "kernelspec": {
   "display_name": "Python 3 (ipykernel)",
   "language": "python",
   "name": "python3"
  },
  "language_info": {
   "codemirror_mode": {
    "name": "ipython",
    "version": 3
   },
   "file_extension": ".py",
   "mimetype": "text/x-python",
   "name": "python",
   "nbconvert_exporter": "python",
   "pygments_lexer": "ipython3",
   "version": "3.12.5"
  }
 },
 "nbformat": 4,
 "nbformat_minor": 5
}
