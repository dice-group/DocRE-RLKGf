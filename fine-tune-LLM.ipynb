{
 "cells": [
  {
   "cell_type": "code",
   "execution_count": 1,
   "id": "d9782602-b254-4725-9e74-608bbfa3dfb0",
   "metadata": {},
   "outputs": [],
   "source": [
    "import argparse\n",
    "import os\n",
    "\n",
    "from accelerate import Accelerator\n",
    "from datasets import load_dataset, Dataset\n",
    "from peft import LoraConfig\n",
    "from tqdm import tqdm\n",
    "from transformers import AutoModelForCausalLM, AutoTokenizer, TrainingArguments, logging, set_seed\n",
    "\n",
    "from trl import SFTTrainer\n",
    "from trl.trainer import ConstantLengthDataset\n",
    "\n",
    "import pandas as pd"
   ]
  },
  {
   "cell_type": "code",
   "execution_count": null,
   "id": "500f8a0a-5276-4553-a65c-1818e1fa51c5",
   "metadata": {},
   "outputs": [],
   "source": [
    "model_name = \"PROVIDE_MODEL\" ## Any large language mode from hugging face"
   ]
  },
  {
   "cell_type": "code",
   "execution_count": 2,
   "id": "d20e1206-a6b8-4b5e-896f-8c38349c31ac",
   "metadata": {},
   "outputs": [],
   "source": [
    "def chars_token_ratio(dataset, tokenizer, nb_examples=400):\n",
    "    \"\"\"\n",
    "    Estimate the average number of characters per token in the dataset.\n",
    "    \"\"\"\n",
    "    total_characters, total_tokens = 0, 0\n",
    "    for _, example in tqdm(zip(range(nb_examples), iter(dataset)), total=nb_examples):\n",
    "        text = prepare_sample_text(example)\n",
    "        total_characters += len(text)\n",
    "        if tokenizer.is_fast:\n",
    "            total_tokens += len(tokenizer(text).tokens())\n",
    "        else:\n",
    "            total_tokens += len(tokenizer.tokenize(text))\n",
    "\n",
    "    return total_characters / total_tokens\n",
    "\n",
    "\n",
    "def print_trainable_parameters(model):\n",
    "    \"\"\"\n",
    "    Prints the number of trainable parameters in the model.\n",
    "    \"\"\"\n",
    "    trainable_params = 0\n",
    "    all_param = 0\n",
    "    for _, param in model.named_parameters():\n",
    "        all_param += param.numel()\n",
    "        if param.requires_grad:\n",
    "            trainable_params += param.numel()\n",
    "    print(\n",
    "        f\"trainable params: {trainable_params} || all params: {all_param} || trainable%: {100 * trainable_params / all_param}\"\n",
    "    )\n",
    "\n"
   ]
  },
  {
   "cell_type": "code",
   "execution_count": 3,
   "id": "7ecc420d-67e4-4609-b693-a9228a5e5f13",
   "metadata": {},
   "outputs": [],
   "source": [
    "\n",
    "def prepare_sample_text(example):\n",
    "    \"\"\"Prepare the text from a sample of the dataset.\"\"\"\n",
    "    text = f\"{example['prompt']}\"\n",
    "    return text"
   ]
  },
  {
   "cell_type": "code",
   "execution_count": 4,
   "id": "a4094ce1-47f5-49de-a2f9-2ae73a6d9ea4",
   "metadata": {},
   "outputs": [],
   "source": [
    "\n",
    "dataset = pd.read_csv('datasets/train_docred_prompt_wES.csv')\n",
    "dataset_train = Dataset.from_pandas(dataset)\n",
    "dev = pd.read_csv('datasets/dev_docred_prompt_wES.csv')\n",
    "dataset_dev = Dataset.from_pandas(dev)"
   ]
  },
  {
   "cell_type": "code",
   "execution_count": 5,
   "id": "d825251b-ec4f-4b24-8008-d7619327edc3",
   "metadata": {},
   "outputs": [],
   "source": [
    "def create_datasets(tokenizer,dataset_train,dataset_dev, seq_length):\n",
    "\n",
    "    train_data = dataset_train\n",
    "    valid_data = dataset_dev\n",
    "    print(f\"Size of the train set: {len(train_data)}. Size of the validation set: {len(valid_data)}\")\n",
    "\n",
    "    chars_per_token = chars_token_ratio(train_data, tokenizer)\n",
    "    print(f\"The character to token ratio of the dataset is: {chars_per_token:.2f}\")\n",
    "\n",
    "    train_dataset = ConstantLengthDataset(\n",
    "        tokenizer,\n",
    "        train_data,\n",
    "        formatting_func=prepare_sample_text,\n",
    "        infinite=True,\n",
    "        seq_length=seq_length,\n",
    "        chars_per_token=chars_per_token,\n",
    "    )\n",
    "    valid_dataset = ConstantLengthDataset(\n",
    "        tokenizer,\n",
    "        valid_data,\n",
    "        formatting_func=prepare_sample_text,\n",
    "        infinite=False,\n",
    "        seq_length=seq_length,\n",
    "        chars_per_token=chars_per_token,\n",
    "    )\n",
    "    return train_dataset, valid_dataset\n"
   ]
  },
  {
   "cell_type": "code",
   "execution_count": 9,
   "id": "2fe8f5fe-0482-4ab6-b935-ad045d369c30",
   "metadata": {},
   "outputs": [],
   "source": [
    "# You can adjust the parameter accordingly\n",
    "def run_training(train_data, val_data):\n",
    "    print(\"Loading the model\")\n",
    "\n",
    "    lora_config = LoraConfig(\n",
    "        r=16,\n",
    "        lora_alpha=32,\n",
    "        lora_dropout=0.05,\n",
    "        bias=\"none\",\n",
    "        task_type=\"CAUSAL_LM\",\n",
    "    )\n",
    "\n",
    "    train_data.start_iteration = 0\n",
    "\n",
    "    print(\"Starting main loop\")\n",
    "\n",
    "    training_args = TrainingArguments(\n",
    "        output_dir='OUTPUT_DIRECTORY_NAME',\n",
    "        dataloader_drop_last=True,\n",
    "        evaluation_strategy=\"steps\",\n",
    "        max_steps=1000,\n",
    "        eval_steps=500,\n",
    "        save_steps=500,\n",
    "        logging_steps=1,\n",
    "        per_device_train_batch_size=1,\n",
    "        per_device_eval_batch_size=1,\n",
    "        learning_rate=1e-4,\n",
    "        lr_scheduler_type='cosine',\n",
    "        warmup_steps=100,\n",
    "        gradient_accumulation_steps=1,\n",
    "        gradient_checkpointing=False,\n",
    "        fp16=True,\n",
    "        bf16=False,\n",
    "        weight_decay=0.05,\n",
    "        run_name=\"L3_18b-Insturct-02-ft\",\n",
    "        report_to=\"wandb\", ### Turn this option off if you don't want to reporting on wandb\n",
    "        ddp_find_unused_parameters=False,\n",
    "    )\n",
    "\n",
    "\n",
    "    model = AutoModelForCausalLM.from_pretrained(model_name, load_in_8bit=True, device_map={\"\": Accelerator().process_index}\n",
    "    )\n",
    "\n",
    "    trainer = SFTTrainer(\n",
    "        model=model,\n",
    "        args=training_args,\n",
    "        train_dataset=train_data,\n",
    "        eval_dataset=val_data,\n",
    "        peft_config=lora_config,\n",
    "        packing=True,\n",
    "    )\n",
    "\n",
    "    print_trainable_parameters(trainer.model)\n",
    "\n",
    "    print(\"Training...\")\n",
    "    trainer.train()\n",
    "\n",
    "    print(\"Saving last checkpoint of the model\")\n",
    "    trainer.model.save_pretrained(os.path.join(\"OUTPUT_DIRECTORY\", \"final_checkpoint/\"))"
   ]
  },
  {
   "cell_type": "code",
   "execution_count": null,
   "id": "9eddbe4e-811d-4a4d-9df9-e4eace844a55",
   "metadata": {},
   "outputs": [],
   "source": [
    "from huggingface_hub import notebook_login\n",
    "\n",
    "notebook_login()"
   ]
  },
  {
   "cell_type": "code",
   "execution_count": 8,
   "id": "8b57b3a5-287c-4335-8dc8-323ec586868b",
   "metadata": {},
   "outputs": [],
   "source": [
    "tokenizer = AutoTokenizer.from_pretrained(model_name) "
   ]
  },
  {
   "cell_type": "code",
   "execution_count": 10,
   "id": "51b3b200-eaba-4702-85a6-7126e26a67be",
   "metadata": {},
   "outputs": [
    {
     "name": "stdout",
     "output_type": "stream",
     "text": [
      "Size of the train set: 3053. Size of the validation set: 998\n"
     ]
    },
    {
     "name": "stderr",
     "output_type": "stream",
     "text": [
      "100%|██████████| 400/400 [00:00<00:00, 542.26it/s]"
     ]
    },
    {
     "name": "stdout",
     "output_type": "stream",
     "text": [
      "The character to token ratio of the dataset is: 3.47\n"
     ]
    },
    {
     "name": "stderr",
     "output_type": "stream",
     "text": [
      "\n"
     ]
    }
   ],
   "source": [
    "train_dataset, eval_dataset = create_datasets(tokenizer,dataset_train,dataset_dev)"
   ]
  },
  {
   "cell_type": "code",
   "execution_count": null,
   "id": "e45670cd-deaa-42be-a526-37bbb02f8642",
   "metadata": {},
   "outputs": [],
   "source": [
    "set_seed(0)\n",
    "os.makedirs(\"OUTPUT_DIRECTORY\", exist_ok=True)\n",
    "\n",
    "logging.set_verbosity_error()\n",
    "run_training( train_dataset, eval_dataset)"
   ]
  },
  {
   "cell_type": "markdown",
   "id": "3d09c24a-48a6-44ea-a406-52cb16066d95",
   "metadata": {},
   "source": [
    "#### The follwoing code will merge the train model with the oringal parameter"
   ]
  },
  {
   "cell_type": "code",
   "execution_count": null,
   "id": "7d54e4c0-f53f-4bb6-a341-fbe3f9f46484",
   "metadata": {},
   "outputs": [],
   "source": [
    "from peft import AutoPeftModelForCausalLM, PeftModel\n",
    "from transformers import AutoModelForCausalLM\n",
    "import torch\n",
    "import os\n",
    "\n",
    "model = AutoModelForCausalLM.from_pretrained(model_name, torch_dtype=torch.float16, load_in_8bit=False,\n",
    "                                             device_map=\"auto\",\n",
    "                                             trust_remote_code=True)\n",
    "\n",
    "model_path = \"OUTPUT_DIRECTORY/final_checkpoint/\"\n",
    "\n",
    "peft_model = PeftModel.from_pretrained(model, model_path, from_transformers=True, device_map=\"auto\")\n",
    "\n",
    "model = peft_model.merge_and_unload()"
   ]
  },
  {
   "cell_type": "code",
   "execution_count": null,
   "id": "ccc5a16a-ff23-456e-969d-8f450b5cba68",
   "metadata": {},
   "outputs": [],
   "source": []
  },
  {
   "cell_type": "markdown",
   "id": "5081e449-eb03-48fa-a433-c96310645e6f",
   "metadata": {},
   "source": [
    "#### The following code will run the train model to generate response\n",
    "#### You can change the parameters such as temprature and top_k accordingly"
   ]
  },
  {
   "cell_type": "code",
   "execution_count": null,
   "id": "8ce48633-b5dc-4017-b7eb-b4ed3b6afe10",
   "metadata": {},
   "outputs": [],
   "source": [
    "def formatted_prompt(doc)-> str:\n",
    "    text = f\"{doc}\\nExample Output\"\n",
    "    return text"
   ]
  },
  {
   "cell_type": "code",
   "execution_count": null,
   "id": "a9bb6d67-1ed9-4cfa-97dc-ffec0fd51c72",
   "metadata": {},
   "outputs": [],
   "source": [
    "def generate_output(user_input):\n",
    "    prompt = formatted_prompt(user_input)\n",
    "\n",
    "    inputs = tokenizer([prompt], return_tensors=\"pt\")\n",
    "    generation_config = GenerationConfig(penalty_alpha=0.6,do_sample = True,\n",
    "      top_k=5,temperature=0.3,repetition_penalty=1.2,\n",
    "      max_new_tokens=512,pad_token_id=tokenizer.eos_token_id\n",
    "    )\n",
    "    inputs = tokenizer(prompt, return_tensors=\"pt\").to('cuda')\n",
    "    outputs = model.generate(**inputs, generation_config=generation_config)\n",
    "    result = tokenizer.decode(outputs[0], skip_special_tokens=True).split('Example Output')[1]\n",
    "    return result"
   ]
  },
  {
   "cell_type": "code",
   "execution_count": null,
   "id": "28f4253c-ed84-4929-b788-c1cc977cbbf0",
   "metadata": {},
   "outputs": [],
   "source": []
  },
  {
   "cell_type": "code",
   "execution_count": null,
   "id": "92906835-6ffc-4a92-a232-166585b1f56b",
   "metadata": {},
   "outputs": [],
   "source": []
  },
  {
   "cell_type": "code",
   "execution_count": null,
   "id": "5e9a1356-f370-4d27-b5d3-e871d63de53d",
   "metadata": {},
   "outputs": [],
   "source": []
  },
  {
   "cell_type": "code",
   "execution_count": null,
   "id": "c53ca188-6a7a-4a8d-abc5-72e9da58b2c8",
   "metadata": {},
   "outputs": [],
   "source": []
  }
 ],
 "metadata": {
  "kernelspec": {
   "display_name": "sparqlgen",
   "language": "python",
   "name": "sparqlgen"
  },
  "language_info": {
   "codemirror_mode": {
    "name": "ipython",
    "version": 3
   },
   "file_extension": ".py",
   "mimetype": "text/x-python",
   "name": "python",
   "nbconvert_exporter": "python",
   "pygments_lexer": "ipython3",
   "version": "3.10.0"
  }
 },
 "nbformat": 4,
 "nbformat_minor": 5
}
