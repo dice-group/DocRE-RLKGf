{
 "cells": [
  {
   "cell_type": "markdown",
   "id": "626c7935-35ec-4af9-9adb-2e420122760f",
   "metadata": {},
   "source": [
    "#### The follwoing cell will load the Dice embeddings models of Wikidata"
   ]
  },
  {
   "cell_type": "code",
   "execution_count": 2,
   "id": "41dc29b1-3a03-4c6b-8a58-cf23b86e89b2",
   "metadata": {},
   "outputs": [
    {
     "name": "stdout",
     "output_type": "stream",
     "text": [
      "Loading entity embeddings...\n",
      "Entity embeddings shape: (10587165, 64)\n",
      "Loading relation embeddings...\n",
      "Relation embeddings shape: (1261, 64)\n"
     ]
    }
   ],
   "source": [
    "import pandas as pd\n",
    "import numpy as np\n",
    "\n",
    "\n",
    "entity2id_df = pd.read_csv(\"5-Epochs/entity_to_idx.csv\", header=0)\n",
    "relation2id_df = pd.read_csv(\"5-Epochs/relation_to_idx.csv\", header=0)\n",
    "\n",
    "entity2id = dict(zip(entity2id_df[\"entity\"], entity2id_df[\"index\"]))\n",
    "relation2id = dict(zip(relation2id_df[\"relation\"], relation2id_df[\"index\"]))\n",
    "\n",
    "#\n",
    "print(\"Loading entity embeddings...\")\n",
    "entity_emb_df = pd.read_csv(\"5-Epochs/Keci_entity_embeddings.csv\", header=None)\n",
    "\n",
    "\n",
    "entity_emb_df.rename(columns={0: \"entity\"}, inplace=True)\n",
    "entity_embeddings = entity_emb_df.drop(columns=[\"entity\"]).astype(np.float32).values\n",
    "entity_emb_uris = entity_emb_df[\"entity\"].values\n",
    "\n",
    "print(\"Entity embeddings shape:\", entity_embeddings.shape)\n",
    "\n",
    "\n",
    "print(\"Loading relation embeddings...\")\n",
    "relation_emb_df = pd.read_csv(\"5-Epochs/Keci_relation_embeddings.csv\", header=None)\n",
    "\n",
    "relation_emb_df.rename(columns={0: \"relation\"}, inplace=True)\n",
    "relation_embeddings = relation_emb_df.drop(columns=[\"relation\"]).astype(np.float32).values\n",
    "relation_emb_uris = relation_emb_df[\"relation\"].values\n",
    "\n",
    "print(\"Relation embeddings shape:\", relation_embeddings.shape)\n",
    "\n",
    "\n"
   ]
  },
  {
   "cell_type": "markdown",
   "id": "bd58dc9b-72fd-4f99-983e-e8d3dff8f66a",
   "metadata": {},
   "source": [
    "#### The next cell will do link prediction\n"
   ]
  },
  {
   "cell_type": "code",
   "execution_count": 5,
   "id": "ffa017a7-093e-4cf6-b50e-eddacec9a20c",
   "metadata": {},
   "outputs": [],
   "source": [
    "import numpy as np\n",
    "\n",
    "def score_triple_normalized(h_emb, r_emb, t_emb):\n",
    "    \"\"\"Normalized TransE score in [0,1].\"\"\"\n",
    "    dist = np.linalg.norm(h_emb + r_emb - t_emb)\n",
    "    return 1.0 / (1.0 + dist)\n",
    "\n",
    "\n",
    "def score_path(h_emb, r_embs, t_emb):\n",
    "    \"\"\"Multi-hop TransE score with relation sequence r_embs.\"\"\"\n",
    "    total_r = np.sum(r_embs, axis=0)\n",
    "    dist = np.linalg.norm(h_emb + total_r - t_emb)\n",
    "    return 1.0 / (1.0 + dist)\n",
    "\n",
    "\n",
    "def predict_relation_normalized(triples, entity2id, relation2id, entity_embeddings, relation_embeddings, top_k=3):\n",
    "    \"\"\"Relation prediction with normalized scores.\"\"\"\n",
    "    results = []\n",
    "\n",
    "    for h_uri, t_uri in triples:\n",
    "        if h_uri not in entity2id or t_uri not in entity2id:\n",
    "            results.append({\"head\": h_uri, \"tail\": t_uri, \"predictions\": [(None, 0.0)]})\n",
    "            continue\n",
    "\n",
    "        h_id = entity2id[h_uri]\n",
    "        t_id = entity2id[t_uri]\n",
    "        h_emb = entity_embeddings[h_id]\n",
    "        t_emb = entity_embeddings[t_id]\n",
    "\n",
    "        scores = []\n",
    "        for r_uri, r_id in relation2id.items():\n",
    "            r_emb = relation_embeddings[r_id]\n",
    "            score = score_triple_normalized(h_emb, r_emb, t_emb)\n",
    "            scores.append((r_uri, score))\n",
    "\n",
    "        top_relations = sorted(scores, key=lambda x: x[1], reverse=True)[:top_k]\n",
    "        results.append({\"head\": h_uri, \"tail\": t_uri, \"predictions\": top_relations})\n",
    "\n",
    "    return results\n",
    "\n",
    "\n",
    "def evaluate_lists_normalized(lists, entity2id, relation2id, entity_embeddings, relation_embeddings):\n",
    "    \"\"\"Aggregate list quality by mean normalized top-1 score.\"\"\"\n",
    "    list_scores = []\n",
    "    for i, triples in enumerate(lists, 1):\n",
    "        results = predict_relation_normalized(triples, entity2id, relation2id, entity_embeddings, relation_embeddings, top_k=1)\n",
    "        scores = [preds[0][1] for r in results if (preds := r[\"predictions\"]) and preds[0][0] is not None]\n",
    "        mean_score = np.mean(scores) if scores else 0.0\n",
    "        list_scores.append((f\"list{i}\", mean_score))\n",
    "    return sorted(list_scores, key=lambda x: x[1], reverse=True)\n"
   ]
  },
  {
   "cell_type": "code",
   "execution_count": 6,
   "id": "cac0d21a-8964-4567-8de3-957ade98aeb5",
   "metadata": {},
   "outputs": [
    {
     "name": "stdout",
     "output_type": "stream",
     "text": [
      "Ranking of lists by mean top relation score:\n",
      "list2: 0.0869\n",
      "list3: 0.0847\n",
      "list1: 0.0818\n"
     ]
    }
   ],
   "source": [
    "# Example lists of (h, t) pairs\n",
    "list1 = [\n",
    "    (\"<http://www.wikidata.org/entity/Q146>\", \"<http://www.wikidata.org/entity/Q5>\"),\n",
    "    (\"<http://www.wikidata.org/entity/Q42>\", \"<http://www.wikidata.org/entity/Q571>\")\n",
    "]\n",
    "\n",
    "list2 = [\n",
    "    (\"<http://www.wikidata.org/entity/Q937>\", \"<http://www.wikidata.org/entity/Q11629>\"),\n",
    "    (\"<http://www.wikidata.org/entity/Q169>\", \"<http://www.wikidata.org/entity/Q30>\")\n",
    "]\n",
    "\n",
    "list3 = [\n",
    "    (\"<http://www.wikidata.org/entity/Q1065>\", \"<http://www.wikidata.org/entity/Q17>\"),\n",
    "    (\"<http://www.wikidata.org/entity/Q76>\", \"<http://www.wikidata.org/entity/Q6256>\")\n",
    "]\n",
    "lists = [list1, list2, list3]\n",
    "ranking = evaluate_lists_normalized(lists, entity2id, relation2id, entity_embeddings, relation_embeddings)\n",
    "\n",
    "print(\"Ranking of lists by mean top relation score:\")\n",
    "for name, score in ranking:\n",
    "    print(f\"{name}: {score:.4f}\")\n"
   ]
  },
  {
   "cell_type": "markdown",
   "id": "50054236-0893-4ab3-80b8-778f8f97250e",
   "metadata": {},
   "source": [
    "#### The nex cells will do an example of multiphop"
   ]
  },
  {
   "cell_type": "code",
   "execution_count": 15,
   "id": "2711e31e-138b-4270-896a-6beac9679c71",
   "metadata": {},
   "outputs": [
    {
     "name": "stdout",
     "output_type": "stream",
     "text": [
      "Multi-hop score (h -P31-> e -P279-> t): 0.0675\n"
     ]
    }
   ],
   "source": [
    "# Example multi-hop scoring\n",
    "h = \"<http://www.wikidata.org/entity/Q146>\"\n",
    "t = \"<http://www.wikidata.org/entity/Q5>\"\n",
    "\n",
    "if h in entity2id and t in entity2id:\n",
    "    h_emb = entity_embeddings[entity2id[h]]\n",
    "    t_emb = entity_embeddings[entity2id[t]]\n",
    "\n",
    "    \n",
    "    r1 = relation_embeddings[relation2id[\"<http://www.wikidata.org/prop/direct/P31>\"]]\n",
    "    r2 = relation_embeddings[relation2id[\"<http://www.wikidata.org/prop/direct/P279>\"]]\n",
    "\n",
    "    score = score_path(h_emb, [r1, r2], t_emb)\n",
    "    print(f\"Multi-hop score (h -P31-> e -P279-> t): {score:.4f}\")\n"
   ]
  },
  {
   "cell_type": "markdown",
   "id": "87dced00-7be2-4635-a511-c78983dca945",
   "metadata": {},
   "source": [
    "#### The next cell is the scoring function that we shown in the paper"
   ]
  },
  {
   "cell_type": "code",
   "execution_count": 8,
   "id": "0356c949-ff45-43eb-af9c-a53c57bc0295",
   "metadata": {},
   "outputs": [],
   "source": [
    "import numpy as np\n",
    "\n",
    "# --- Basic scores ---\n",
    "\n",
    "def score_lp(h_emb, r_emb, t_emb):\n",
    "    \"\"\"Link prediction (TransE normalized score).\"\"\"\n",
    "    dist = np.linalg.norm(h_emb + r_emb - t_emb)\n",
    "    return 1.0 / (1.0 + dist)\n",
    "\n",
    "def score_approx(h_emb, r_emb, t_emb, extra_relations=None):\n",
    "    \"\"\"\n",
    "    Approximate score (semantic / multi-hop).\n",
    "    For now, implement as multi-hop plausibility: h + r + extra ~ t.\n",
    "    \"\"\"\n",
    "    if extra_relations is None:\n",
    "        return 0.0\n",
    "    total_r = np.sum(extra_relations, axis=0)\n",
    "    dist = np.linalg.norm(h_emb + r_emb + total_r - t_emb)\n",
    "    return 1.0 / (1.0 + dist)\n",
    "\n",
    "# --- Confidence score for one triple ---\n",
    "\n",
    "def confidence_score(h_uri, r_uri, t_uri, entity2id, relation2id, \n",
    "                     entity_embeddings, relation_embeddings,\n",
    "                     extra_relations=None,\n",
    "                     lambda1=0.6, lambda2=0.4):\n",
    "    \"\"\"Compute confidence score for a triple (h,r,t).\"\"\"\n",
    "    if h_uri not in entity2id or t_uri not in entity2id or r_uri not in relation2id:\n",
    "        return 0.0\n",
    "\n",
    "    h_emb = entity_embeddings[entity2id[h_uri]]\n",
    "    r_emb = relation_embeddings[relation2id[r_uri]]\n",
    "    t_emb = entity_embeddings[entity2id[t_uri]]\n",
    "\n",
    "    lp = score_lp(h_emb, r_emb, t_emb)\n",
    "    approx = score_approx(h_emb, r_emb, t_emb, extra_relations)\n",
    "    return lambda1 * lp + lambda2 * approx\n",
    "\n",
    "# --- Document-level score ---\n",
    "\n",
    "def document_score(triples, entity2id, relation2id, entity_embeddings, relation_embeddings,\n",
    "                   lambda1=0.6, lambda2=0.4):\n",
    "    \"\"\"\n",
    "    Compute aggregated confidence score for a set of triples (document-level).\n",
    "    triples = [(h,r,t), ...]\n",
    "    \"\"\"\n",
    "    scores = []\n",
    "    for h, r, t in triples:\n",
    "        conf = confidence_score(h, r, t,\n",
    "                                entity2id, relation2id,\n",
    "                                entity_embeddings, relation_embeddings,\n",
    "                                extra_relations=None,\n",
    "                                lambda1=lambda1, lambda2=lambda2)\n",
    "        scores.append(conf)\n",
    "    return np.mean(scores) if scores else 0.0\n"
   ]
  },
  {
   "cell_type": "code",
   "execution_count": 13,
   "id": "ffb246b9-28ef-4433-9161-20914f9e08d7",
   "metadata": {},
   "outputs": [],
   "source": [
    "# Examples predictions\n",
    "triples_pred_1 = [\n",
    "    (\"<http://www.wikidata.org/entity/Q42>\",  # Douglas Adams\n",
    "     \"<http://www.wikidata.org/prop/direct/P106>\",  # occupation\n",
    "     \"<http://www.wikidata.org/entity/Q36180>\"),  # science fiction writer\n",
    "\n",
    "    (\"<http://www.wikidata.org/entity/Q146>\",  # Cat\n",
    "     \"<http://www.wikidata.org/prop/direct/P31>\",  # instance of\n",
    "     \"<http://www.wikidata.org/entity/Q146>\"),  # Cat (self-loop, sometimes plausible)\n",
    "\n",
    "    (\"<http://www.wikidata.org/entity/Q5>\",   # Human\n",
    "     \"<http://www.wikidata.org/prop/direct/P31>\",  # instance of\n",
    "     \"<http://www.wikidata.org/entity/Q215627>\")   # person\n",
    "]\n",
    "\n",
    "\n",
    "triples_pred_2 = [(\"<http://www.wikidata.org/entity/Q42>\",  # Douglas Adams\n",
    "     \"<http://www.wikidata.org/prop/direct/P31>\",  # instance of\n",
    "     \"<http://www.wikidata.org/entity/Q146>\"),  # Cat (nonsense)\n",
    "\n",
    "    (\"<http://www.wikidata.org/entity/Q146>\",  # Cat\n",
    "     \"<http://www.wikidata.org/prop/direct/P106>\",  # occupation\n",
    "     \"<http://www.wikidata.org/entity/Q5>\"),   # Human (wrong)\n",
    "\n",
    "    (\"<http://www.wikidata.org/entity/Q5>\",  # Human\n",
    "     \"<http://www.wikidata.org/prop/direct/P279>\",  # subclass of\n",
    "     \"<http://www.wikidata.org/entity/Q146>\")  # Cat (wrong way around)\n",
    "\n",
    "]\n",
    "\n",
    "\n",
    "triples_pred_3 = [\n",
    "        (\"<http://www.wikidata.org/entity/Q146>\",  # Cat\n",
    "     \"<http://www.wikidata.org/prop/direct/P31>\",  # instance of\n",
    "     \"<http://www.wikidata.org/entity/Q5>\"),  # Human (weird)\n",
    "\n",
    "    (\"<http://www.wikidata.org/entity/Q42>\",  # Douglas Adams\n",
    "     \"<http://www.wikidata.org/prop/direct/P31>\",  # instance of\n",
    "     \"<http://www.wikidata.org/entity/Q36180>\"),  # science fiction writer (not \"instance of\")\n",
    "\n",
    "    (\"<http://www.wikidata.org/entity/Q146>\",  # Cat\n",
    "     \"<http://www.wikidata.org/prop/direct/P106>\",  # occupation\n",
    "     \"<http://www.wikidata.org/entity/Q36180>\")  # writer (nonsense)\n",
    "    \n",
    "]\n"
   ]
  },
  {
   "cell_type": "markdown",
   "id": "b80503b5-b708-4b1d-b457-66f9cf8b9f8a",
   "metadata": {},
   "source": [
    "##### Based on the above examples output list the follwoing cells will choose the best and worst"
   ]
  },
  {
   "cell_type": "code",
   "execution_count": 14,
   "id": "112cec05-8c37-4517-be86-072e6950f6df",
   "metadata": {},
   "outputs": [
    {
     "name": "stdout",
     "output_type": "stream",
     "text": [
      "output 1: 0.1680\n",
      "output 2: 0.0427\n",
      "output 3: 0.0473\n",
      "\n",
      "Best output: output 1 (score=0.1680)\n",
      "Worst ouput: output 2 (score=0.0427)\n"
     ]
    }
   ],
   "source": [
    "scores = {\n",
    "    \"output 1\": document_score(triples_pred_1, entity2id, relation2id, entity_embeddings, relation_embeddings),\n",
    "    \"output 2\": document_score(triples_pred_2, entity2id, relation2id, entity_embeddings, relation_embeddings),\n",
    "    \"output 3\": document_score(triples_pred_3, entity2id, relation2id, entity_embeddings, relation_embeddings),\n",
    "}\n",
    "\n",
    "for k,v in scores.items():\n",
    "    print(f\"{k}: {v:.4f}\")\n",
    "\n",
    "best_doc = max(scores, key=scores.get)\n",
    "worst_doc = min(scores, key=scores.get)\n",
    "\n",
    "print(f\"\\nBest output: {best_doc} (score={scores[best_doc]:.4f})\")\n",
    "print(f\"Worst ouput: {worst_doc} (score={scores[worst_doc]:.4f})\")\n"
   ]
  },
  {
   "cell_type": "code",
   "execution_count": null,
   "id": "ea66a856-3095-46f5-9c14-f71bb40ecca3",
   "metadata": {},
   "outputs": [],
   "source": []
  }
 ],
 "metadata": {
  "kernelspec": {
   "display_name": "Python 3 (ipykernel)",
   "language": "python",
   "name": "python3"
  },
  "language_info": {
   "codemirror_mode": {
    "name": "ipython",
    "version": 3
   },
   "file_extension": ".py",
   "mimetype": "text/x-python",
   "name": "python",
   "nbconvert_exporter": "python",
   "pygments_lexer": "ipython3",
   "version": "3.12.6"
  }
 },
 "nbformat": 4,
 "nbformat_minor": 5
}
